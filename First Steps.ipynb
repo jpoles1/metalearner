{
 "cells": [
  {
   "cell_type": "code",
   "execution_count": 22,
   "metadata": {
    "collapsed": false
   },
   "outputs": [],
   "source": [
    "import pandas as pd\n",
    "from sklearn.cross_validation import train_test_split"
   ]
  },
  {
   "cell_type": "code",
   "execution_count": 25,
   "metadata": {
    "collapsed": false
   },
   "outputs": [],
   "source": [
    "pearson_df = pd.read_csv(\"data/Pearson.csv\")\n",
    "X_train = pearson_df.Father\n",
    "Y_train = pearson_df.Son\n",
    "X_train, X_test, Y_train, Y_test = train_test_split(X_train, Y_train, test_size=0.20, random_state=42)\n",
    "X_train, X_valid, Y_train, Y_valid = train_test_split(X_train, Y_train, test_size=0.10, random_state=42)"
   ]
  },
  {
   "cell_type": "code",
   "execution_count": 29,
   "metadata": {
    "collapsed": false
   },
   "outputs": [],
   "source": [
    "class metalearner():\n",
    "    def __init__(self, is_categorical):\n",
    "        self.is_categorical = is_categorical;\n",
    "    def fit(self, X_train, Y_train, X_valid, Y_valid, X_test, Y_test=None):\n",
    "        self.X_train = X_train\n",
    "        self.Y_train = Y_train\n",
    "        self.X_valid = X_valid\n",
    "        self.Y_valid = Y_valid\n",
    "        self.X_test = X_test\n",
    "        self.Y_test = Y_test\n",
    "        #This function determines the type of the response variable. This is used to guess if it is categorical.\n",
    "        def determine_type():\n",
    "            #If a float, definitely not a category\n",
    "            #If a string, definitely a category\n",
    "            #If integers, is n > 8? Throw warning if unsure.\n",
    "            pass\n",
    "x = metalearner(0)"
   ]
  },
  {
   "cell_type": "code",
   "execution_count": 30,
   "metadata": {
    "collapsed": false
   },
   "outputs": [],
   "source": [
    "x.fit(X_train, Y_train, X_valid, Y_valid, X_test)"
   ]
  }
 ],
 "metadata": {
  "kernelspec": {
   "display_name": "Python 3",
   "language": "python",
   "name": "python3"
  },
  "language_info": {
   "codemirror_mode": {
    "name": "ipython",
    "version": 3
   },
   "file_extension": ".py",
   "mimetype": "text/x-python",
   "name": "python",
   "nbconvert_exporter": "python",
   "pygments_lexer": "ipython3",
   "version": "3.5.2"
  }
 },
 "nbformat": 4,
 "nbformat_minor": 0
}
